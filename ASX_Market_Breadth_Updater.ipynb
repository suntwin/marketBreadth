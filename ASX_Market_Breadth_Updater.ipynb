{
 "cells": [
  {
   "cell_type": "code",
   "execution_count": 1,
   "metadata": {},
   "outputs": [],
   "source": [
    "from seleniumextractor import SeleniumExtractor\n",
    "from selenium.webdriver.support.ui import Select\n",
    "from selenium.webdriver.common.keys import Keys\n",
    "from selenium.webdriver.support.ui import WebDriverWait\n",
    "from selenium.webdriver.common.by import By\n",
    "from selenium.webdriver.support.ui import Select\n",
    "from selenium.webdriver.support import expected_conditions as EC\n",
    "from decimal import *\n",
    "from selenium_error import *\n",
    "from configReader_MB import configReader_MB\n",
    "import random\n",
    "import logging\n",
    "import logging.config\n",
    "import sys\n",
    "import pandas as pd\n",
    "import time"
   ]
  },
  {
   "cell_type": "code",
   "execution_count": 2,
   "metadata": {},
   "outputs": [],
   "source": [
    "\n",
    "def _get_config(property):\n",
    "    return(configReader_MB.get_setting(property))\n",
    "    return(configReader_MB.get_setting(property))\n",
    "\n",
    "marketinout_loginurl = _get_config(\"login_link\")\n",
    "marketinout_username = _get_config(\"username\")"
   ]
  },
  {
   "cell_type": "code",
   "execution_count": 3,
   "metadata": {},
   "outputs": [],
   "source": [
    "\n",
    "def _run_screener(sel,url,path):\n",
    "    selextractor.driver.get(url)\n",
    "    sel.get_elem_by_id(\"runScreenButton\").click()\n",
    "    data1 = sel.get_elem_by_xpath(path).text.split(\" \")\n",
    "    return(data1[0])\n",
    "\n",
    "def _run_screener_crypto(sel,url,path):\n",
    "    selextractor.driver.get(url)\n",
    "    sel.get_elem_by_id(\"runScreenButton\").click()\n",
    "\n",
    "    #data1 = sel.get_elem_by_xpath(path).text.split(\" \")\n",
    "\n",
    "    data1 = sel.get_elem_by_id(\"results\")\n",
    "    print(\"data1\",data1)\n",
    "    nr = {\"number_of_matches\":0}\n",
    "    for row in data1.find_elements_by_css_selector('tr'):\n",
    "        if row == data1.find_elements_by_css_selector('tr')[-1]:\n",
    "            # this is the last element of the loop\n",
    "            for cell in row.find_elements_by_tag_name('td')[:1]:\n",
    "\n",
    "                nr1 = cell.text.split(\" \")[0]\n",
    "            #print(\"nr1 is\",row)\n",
    "                for k in nr.keys():\n",
    "                    nr['number_of_matches'] = nr1\n",
    "    print(\"nr dict\",nr)\n",
    "    return(nr['number_of_matches'])\n",
    "\n",
    "def _run_screener_crypto_hist(sel,url,path):\n",
    "\n",
    "    left_button_xpath = \"/html/body/table[2]/tbody/tr/td[2]/table[3]/tbody/tr/td/table[1]/tbody/tr[1]/td/div/table/tbody/tr/td[3]/table/tbody/tr[2]/td[1]/a\"\n",
    "    date_xpath = \"/html/body/table[2]/tbody/tr/td[2]/table[3]/tbody/tr/td/table[1]/tbody/tr[1]/td/div/table/tbody/tr/td[3]/table/tbody/tr[2]/td[2]\"\n",
    "    sel.get_elem_by_xpath(left_button_xpath).click()\n",
    "    #sel.get_elem_by_id(\"runScreenButton\").click()\n",
    "\n",
    "    date_str = sel.get_elem_by_xpath(date_xpath).text.split(\" \")[1]\n",
    "\n",
    "    data1 = sel.get_elem_by_id(\"results\")\n",
    "    print(\"data1\",data1)\n",
    "    nr = {\"number_of_matches\":0,\"date\":\"\"}\n",
    "    for row in data1.find_elements_by_css_selector('tr'):\n",
    "        if row == data1.find_elements_by_css_selector('tr')[-1]:\n",
    "            # this is the last element of the loop\n",
    "            for cell in row.find_elements_by_tag_name('td')[:1]:\n",
    "\n",
    "                nr1 = cell.text.split(\" \")[0]\n",
    "            #print(\"nr1 is\",row)\n",
    "                for k in nr.keys():\n",
    "                    nr['number_of_matches'] = nr1\n",
    "    #print(\"nr dict\",nr)\n",
    "    nr['date']=date_str\n",
    "    return(nr)\n"
   ]
  },
  {
   "cell_type": "code",
   "execution_count": 4,
   "metadata": {},
   "outputs": [],
   "source": [
    "def _save_csv(file_name,datalist):\n",
    "    date_list=[]\n",
    "    count_list=[]\n",
    "    for i in range(len(datalist)):\n",
    "        print(\"record\",datalist[i])\n",
    "        #df.append(pd.DataFrame(datalist[i], index=[0]), ignore_index=True)\n",
    "\n",
    "        date_list.append(datalist[i]['date'])\n",
    "        count_list.append(datalist[i]['number_of_matches'])\n",
    "    date_ser = pd.Series(date_list)\n",
    "    count_ser = pd.Series(count_list)\n",
    "    df = pd.DataFrame()\n",
    "    df['date'] = date_ser\n",
    "    df['count'] = count_ser\n",
    "    print(df)\n",
    "\n",
    "    df.to_csv(file_name,index=False)"
   ]
  },
  {
   "cell_type": "code",
   "execution_count": 5,
   "metadata": {},
   "outputs": [
    {
     "ename": "Driver_Find_Error",
     "evalue": "('Error while extracting elements based on id name', 's107', AttributeError(\"'WebDriver' object has no attribute 'find_element_by_id'\"))",
     "output_type": "error",
     "traceback": [
      "\u001b[1;31m---------------------------------------------------------------------------\u001b[0m",
      "\u001b[1;31mAttributeError\u001b[0m                            Traceback (most recent call last)",
      "\u001b[1;32m~\\PycharmProjects\\marketBreadth\\seleniumextractor.py\u001b[0m in \u001b[0;36mget_elem_by_id\u001b[1;34m(self, id)\u001b[0m\n\u001b[0;32m     82\u001b[0m     \u001b[1;32mtry\u001b[0m\u001b[1;33m:\u001b[0m\u001b[1;33m\u001b[0m\u001b[1;33m\u001b[0m\u001b[0m\n\u001b[1;32m---> 83\u001b[1;33m       \u001b[0melems\u001b[0m \u001b[1;33m=\u001b[0m \u001b[0mself\u001b[0m\u001b[1;33m.\u001b[0m\u001b[0mdriver\u001b[0m\u001b[1;33m.\u001b[0m\u001b[0mfind_element_by_id\u001b[0m\u001b[1;33m(\u001b[0m\u001b[0mid\u001b[0m\u001b[1;33m)\u001b[0m\u001b[1;33m\u001b[0m\u001b[1;33m\u001b[0m\u001b[0m\n\u001b[0m\u001b[0;32m     84\u001b[0m \u001b[1;33m\u001b[0m\u001b[0m\n",
      "\u001b[1;31mAttributeError\u001b[0m: 'WebDriver' object has no attribute 'find_element_by_id'",
      "\nDuring handling of the above exception, another exception occurred:\n",
      "\u001b[1;31mDriver_Find_Error\u001b[0m                         Traceback (most recent call last)",
      "\u001b[1;32m~\\AppData\\Local\\Temp\\ipykernel_29104\\3080203546.py\u001b[0m in \u001b[0;36m<module>\u001b[1;34m\u001b[0m\n\u001b[0;32m      2\u001b[0m \u001b[0mmarketinout_username\u001b[0m \u001b[1;33m=\u001b[0m \u001b[0m_get_config\u001b[0m\u001b[1;33m(\u001b[0m\u001b[1;34m\"username\"\u001b[0m\u001b[1;33m)\u001b[0m\u001b[1;33m\u001b[0m\u001b[1;33m\u001b[0m\u001b[0m\n\u001b[0;32m      3\u001b[0m \u001b[0mselextractor\u001b[0m \u001b[1;33m=\u001b[0m \u001b[0mSeleniumExtractor\u001b[0m\u001b[1;33m(\u001b[0m\u001b[0mmarketinout_loginurl\u001b[0m\u001b[1;33m)\u001b[0m\u001b[1;33m\u001b[0m\u001b[1;33m\u001b[0m\u001b[0m\n\u001b[1;32m----> 4\u001b[1;33m \u001b[0melem\u001b[0m \u001b[1;33m=\u001b[0m \u001b[0mselextractor\u001b[0m\u001b[1;33m.\u001b[0m\u001b[0mget_elem_by_id\u001b[0m\u001b[1;33m(\u001b[0m\u001b[1;34m\"l\"\u001b[0m\u001b[1;33m)\u001b[0m\u001b[1;33m\u001b[0m\u001b[1;33m\u001b[0m\u001b[0m\n\u001b[0m\u001b[0;32m      5\u001b[0m \u001b[0melem\u001b[0m\u001b[1;33m.\u001b[0m\u001b[0msend_keys\u001b[0m\u001b[1;33m(\u001b[0m\u001b[0mmarketinout_username\u001b[0m\u001b[1;33m)\u001b[0m\u001b[1;33m\u001b[0m\u001b[1;33m\u001b[0m\u001b[0m\n\u001b[0;32m      6\u001b[0m \u001b[0melem\u001b[0m \u001b[1;33m=\u001b[0m \u001b[0mselextractor\u001b[0m\u001b[1;33m.\u001b[0m\u001b[0mget_elems_by_class\u001b[0m\u001b[1;33m(\u001b[0m\u001b[1;34m\"button\"\u001b[0m\u001b[1;33m)\u001b[0m\u001b[1;33m[\u001b[0m\u001b[1;36m0\u001b[0m\u001b[1;33m]\u001b[0m\u001b[1;33m.\u001b[0m\u001b[0mclick\u001b[0m\u001b[1;33m(\u001b[0m\u001b[1;33m)\u001b[0m\u001b[1;33m\u001b[0m\u001b[1;33m\u001b[0m\u001b[0m\n",
      "\u001b[1;32m~\\PycharmProjects\\marketBreadth\\seleniumextractor.py\u001b[0m in \u001b[0;36mget_elem_by_id\u001b[1;34m(self, id)\u001b[0m\n\u001b[0;32m     86\u001b[0m \u001b[1;33m\u001b[0m\u001b[0m\n\u001b[0;32m     87\u001b[0m     \u001b[1;32mexcept\u001b[0m \u001b[0mException\u001b[0m \u001b[1;32mas\u001b[0m \u001b[0me\u001b[0m\u001b[1;33m:\u001b[0m\u001b[1;33m\u001b[0m\u001b[1;33m\u001b[0m\u001b[0m\n\u001b[1;32m---> 88\u001b[1;33m       \u001b[1;32mraise\u001b[0m \u001b[0mDriver_Find_Error\u001b[0m\u001b[1;33m(\u001b[0m\u001b[1;34m\"Error while extracting elements based on id name\"\u001b[0m\u001b[1;33m,\u001b[0m \u001b[1;34m's107'\u001b[0m\u001b[1;33m,\u001b[0m \u001b[0me\u001b[0m\u001b[1;33m)\u001b[0m\u001b[1;33m\u001b[0m\u001b[1;33m\u001b[0m\u001b[0m\n\u001b[0m\u001b[0;32m     89\u001b[0m     \u001b[1;32mreturn\u001b[0m \u001b[1;33m(\u001b[0m\u001b[0melems\u001b[0m\u001b[1;33m)\u001b[0m\u001b[1;33m\u001b[0m\u001b[1;33m\u001b[0m\u001b[0m\n\u001b[0;32m     90\u001b[0m \u001b[1;33m\u001b[0m\u001b[0m\n",
      "\u001b[1;31mDriver_Find_Error\u001b[0m: ('Error while extracting elements based on id name', 's107', AttributeError(\"'WebDriver' object has no attribute 'find_element_by_id'\"))"
     ]
    }
   ],
   "source": [
    "marketinout_loginurl = _get_config(\"login_link\")\n",
    "marketinout_username = _get_config(\"username\")\n",
    "selextractor = SeleniumExtractor(marketinout_loginurl)\n",
    "elem = selextractor.get_elem_by_id(\"l\")\n",
    "elem.send_keys(marketinout_username)\n",
    "elem = selextractor.get_elems_by_class(\"button\")[0].click()"
   ]
  },
  {
   "cell_type": "code",
   "execution_count": null,
   "metadata": {},
   "outputs": [],
   "source": [
    "_match_xpath = _get_config(\"match_xpath\")\n",
    "_20sma_url = _get_config(\"20sma\")\n",
    "_20sma_below_url = _get_config(\"20sma_below\")\n",
    "_50sma_url = _get_config(\"50sma\")\n",
    "_50sma_below_url = _get_config(\"50sma_below\")\n",
    "_20percent_up_url = _get_config(\"20percent_up\")\n",
    "_20percent_down_url = _get_config(\"20percent_down\")\n",
    "_4_5percent_up_url = _get_config(\"4.5percent_up\")\n",
    "_4_5percent_down_url = _get_config(\"4.5percent_down\")\n",
    "\n",
    "_4_5percent_up_count = _run_screener_crypto(selextractor,_4_5percent_up_url,_match_xpath)\n",
    "_4_5percent_down_count = _run_screener_crypto(selextractor,_4_5percent_down_url,_match_xpath)\n",
    "_20percent_up_count = _run_screener_crypto(selextractor,_20percent_up_url,_match_xpath)\n",
    "_20percent_down_count = _run_screener_crypto(selextractor,_20percent_down_url,_match_xpath)\n",
    "_20sma_up_count = _run_screener_crypto(selextractor,_20sma_url,_match_xpath)\n",
    "_20sma_below_count = _run_screener_crypto(selextractor,_20sma_below_url,_match_xpath)\n",
    "_50sma_up_count = _run_screener_crypto(selextractor,_50sma_url,_match_xpath)\n",
    "_50sma_below_count = _run_screener_crypto(selextractor,_50sma_below_url,_match_xpath)\n",
    "        #print(_20sma_up_count,_20sma_below_count,_50sma_up_count,_50sma_below_count,_20percent_up_count,_20percent_down_count,_4_5percent_up_count,_4_5percent_down_count)\n"
   ]
  },
  {
   "cell_type": "code",
   "execution_count": null,
   "metadata": {
    "pycharm": {
     "name": "#%%\n"
    }
   },
   "outputs": [],
   "source": [
    "print(_4_5percent_up_count,_4_5percent_down_count,_20percent_up_count,_20percent_down_count,_20sma_up_count,_20sma_below_count,_50sma_up_count,_50sma_below_count)"
   ]
  },
  {
   "cell_type": "code",
   "execution_count": null,
   "metadata": {
    "pycharm": {
     "name": "#%%\n"
    },
    "scrolled": true
   },
   "outputs": [],
   "source": [
    "breadth_local_path = \"C://Users//Sonam//OneDrive//Documents//MarketBreadth_ASXV2.xls\"\n",
    "df = pd.read_excel(breadth_local_path, index_col=0,\n",
    "              dtype={'A': int, 'B': int, 'C': int, 'D': int, 'E': int, 'F': int,'G': int,'H':int})  \n",
    "\n",
    "\n",
    "\n"
   ]
  },
  {
   "cell_type": "code",
   "execution_count": null,
   "metadata": {},
   "outputs": [],
   "source": [
    "df"
   ]
  },
  {
   "cell_type": "code",
   "execution_count": null,
   "metadata": {},
   "outputs": [],
   "source": [
    "# prepare the returned data into a new row for dataframe\n",
    "columns = df.columns\n",
    "columns_list = list(columns)\n",
    "data = {'row':[int(_4_5percent_up_count),int(_4_5percent_down_count),int(_20percent_up_count),int(_20percent_down_count),int(_20sma_up_count),int(_20sma_below_count),int(_50sma_up_count),int(_50sma_below_count)]}\n",
    "new_row = pd.DataFrame.from_dict(data,orient='index')\n",
    "new_row.set_axis(columns_list,axis=1,inplace=True)"
   ]
  },
  {
   "cell_type": "code",
   "execution_count": null,
   "metadata": {},
   "outputs": [],
   "source": [
    "#change the index to current date for the new row\n",
    "from datetime import datetime\n",
    "curr_date = datetime.today().strftime('%d/%m/%Y')\n",
    "as_list = new_row.index.tolist()\n",
    "idx = as_list.index('row')\n",
    "as_list[idx] = curr_date\n",
    "new_row.index = as_list"
   ]
  },
  {
   "cell_type": "code",
   "execution_count": null,
   "metadata": {},
   "outputs": [],
   "source": [
    "#append the new row and save back to excel"
   ]
  },
  {
   "cell_type": "code",
   "execution_count": null,
   "metadata": {
    "pycharm": {
     "name": "#%%\n"
    }
   },
   "outputs": [],
   "source": [
    "final_df = pd.concat([new_row,df])\n"
   ]
  },
  {
   "cell_type": "code",
   "execution_count": null,
   "metadata": {},
   "outputs": [],
   "source": [
    "final_df.to_excel(\"C://Users//Sonam//OneDrive//Documents//MarketBreadth_ASXV2.xls\")"
   ]
  },
  {
   "cell_type": "code",
   "execution_count": null,
   "metadata": {},
   "outputs": [],
   "source": []
  },
  {
   "cell_type": "raw",
   "metadata": {},
   "source": []
  },
  {
   "cell_type": "raw",
   "metadata": {},
   "source": [
    "\n",
    "\n"
   ]
  }
 ],
 "metadata": {
  "kernelspec": {
   "display_name": "Python 3 (ipykernel)",
   "language": "python",
   "name": "python3"
  },
  "language_info": {
   "codemirror_mode": {
    "name": "ipython",
    "version": 3
   },
   "file_extension": ".py",
   "mimetype": "text/x-python",
   "name": "python",
   "nbconvert_exporter": "python",
   "pygments_lexer": "ipython3",
   "version": "3.7.16"
  }
 },
 "nbformat": 4,
 "nbformat_minor": 1
}
