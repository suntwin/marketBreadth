{
 "cells": [
  {
   "cell_type": "code",
   "execution_count": 1,
   "metadata": {},
   "outputs": [],
   "source": [
    "from seleniumextractor import SeleniumExtractor\n",
    "from selenium.webdriver.support.ui import Select\n",
    "from selenium.webdriver.common.keys import Keys\n",
    "from selenium.webdriver.support.ui import WebDriverWait\n",
    "from selenium.webdriver.common.by import By\n",
    "from selenium.webdriver.support.ui import Select\n",
    "from selenium.webdriver.support import expected_conditions as EC\n",
    "from decimal import *\n",
    "from selenium_error import *\n",
    "from configReader_WLTSE import configReader_WLTSE\n",
    "import random\n",
    "import logging\n",
    "import logging.config\n",
    "import sys\n",
    "import pandas as pd\n",
    "import datetime as dt\n",
    "import time\n",
    "import os"
   ]
  },
  {
   "cell_type": "code",
   "execution_count": 2,
   "metadata": {},
   "outputs": [],
   "source": [
    "current_date = dt.datetime.today().strftime(\"%m%d%Y\")"
   ]
  },
  {
   "cell_type": "code",
   "execution_count": 3,
   "metadata": {},
   "outputs": [],
   "source": [
    "\n",
    "def _get_config(property):\n",
    "    return(configReader_WLTSE.get_setting(property))\n",
    "    return(configReader_WLTSE.get_setting(property))\n",
    "\n",
    "marketinout_loginurl = _get_config(\"login_link\")\n",
    "marketinout_username = _get_config(\"username\")"
   ]
  },
  {
   "cell_type": "code",
   "execution_count": 4,
   "metadata": {},
   "outputs": [],
   "source": [
    "file_path = \"C://Users//Sonam//Downloads//chromedriver_win32\" + \"//\"\n",
    "wl_file_path = \"C://Users//Sonam//OneDrive//Documents//watchlists//tse\"+\"//\""
   ]
  },
  {
   "cell_type": "code",
   "execution_count": 5,
   "metadata": {},
   "outputs": [],
   "source": [
    "marketinout_loginurl = _get_config(\"login_link\")\n",
    "marketinout_username = _get_config(\"username\")\n",
    "selextractor = SeleniumExtractor(marketinout_loginurl)\n",
    "elem = selextractor.get_elem_by_id(\"l\")\n",
    "elem.send_keys(marketinout_username)\n",
    "elem = selextractor.get_elems_by_class(\"button\")[0].click()"
   ]
  },
  {
   "cell_type": "code",
   "execution_count": 6,
   "metadata": {
    "scrolled": true
   },
   "outputs": [],
   "source": [
    "_match_xpath = _get_config(\"match_xpath\")\n",
    "# _minervini = _get_config(\"minervini\")\n",
    "# _minervini_download_fn = _get_config(\"minervini_fn\")\n",
    "# _1_month = _get_config(\"1_month\")\n",
    "# _1_month_fn = _get_config(\"1_month_fn\")\n",
    "# _3_month = _get_config(\"3_month\")\n",
    "# _3_month_fn = _get_config(\"3_month_fn\")\n",
    "# _6_month = _get_config(\"6_month\")\n",
    "# _6_month_fn = _get_config(\"6_month_fn\")\n",
    "# _52_wk_high = _get_config(\"52_wk_high\")\n",
    "# _52_wk_high_fn = _get_config(\"52_wk_high_fn\")\n",
    "# _asx20percent = _get_config(\"asx20percent\")\n",
    "# _asx20percent_fn = _get_config(\"asx20percent_fn\")\n",
    "# _asx_kma = _get_config(\"asx_kma\")\n",
    "# _asx_kma_fn = _get_config(\"asx_kma_fn\")\n",
    "# _asx_selective = _get_config(\"asx_selective\")\n",
    "# _asx_selective_fn = _get_config(\"asx_selective_fn\")\n",
    "# _asx_52wbounce = _get_config(\"asx_52wbounce\")\n",
    "# _asx_52wbounce_fn = _get_config(\"asx_52wbounce_fn\")\n",
    "_tse_refined = _get_config(\"tse_refined\")\n",
    "_tse_refined_fn = _get_config(\"tse_refined_fn\")"
   ]
  },
  {
   "cell_type": "code",
   "execution_count": 7,
   "metadata": {},
   "outputs": [],
   "source": [
    "def get_scanner_details(url,selextractor,csv_file_name):\n",
    "    selextractor.driver.get(url)\n",
    "    selextractor.driver.get(\"https://www.marketinout.com/stock-screener/csv_stocks.csv\")\n",
    "    #insert a wait here for few seconds for the file to be downlaoded\n",
    "    time.sleep(3)\n",
    "    df = pd.read_csv(\"C://Users//Sonam//Downloads//chromedriver_win32\" + \"//\" + csv_file_name)\n",
    "    return df\n",
    "    "
   ]
  },
  {
   "cell_type": "code",
   "execution_count": 8,
   "metadata": {},
   "outputs": [],
   "source": [
    "def write_watchlist(name,str1):\n",
    "    l_name = wl_file_path+name+current_date+\".txt\"\n",
    "    text_file = open(l_name,\"w\")\n",
    "    n = text_file.write(str1)\n",
    "    text_file.close()"
   ]
  },
  {
   "cell_type": "code",
   "execution_count": 9,
   "metadata": {},
   "outputs": [],
   "source": [
    "def get_watchlist(df):\n",
    "    symbol_list = df['Symbol'].tolist()\n",
    "    # split it by .\n",
    "    delimited_list = [i.split('.', 1)[0] for i in symbol_list]\n",
    "    # append each list item with NSE:\n",
    "    appended_list =  [\"TSE:\"+ i for i in delimited_list]\n",
    "    symbol_str = ','. join(appended_list)\n",
    "    return(symbol_str)"
   ]
  },
  {
   "cell_type": "code",
   "execution_count": 10,
   "metadata": {},
   "outputs": [],
   "source": [
    "def generate_watchlist(df,watchlist_type,file_name):\n",
    "    output_file_name = file_name.split('.')[0]\n",
    "    #df = get_scanner_details(wl_url,sel,file_name)\n",
    "    if watchlist_type == \"all\":\n",
    "        #do nothing with the dataframe\n",
    "        \n",
    "        df=df[(df[\"3wtc\"]!=1)&(df[\"Weekly_ib\"]!=1)]\n",
    "        output_file_name = output_file_name+\"_all\"\n",
    "    if watchlist_type == \"3wtc\":\n",
    "      \n",
    "        df=df[(df[\"3wtc\"]==1)]\n",
    "       \n",
    "   \n",
    "        output_file_name = output_file_name+\"_3wtc\"\n",
    "    if watchlist_type == \"wib\":\n",
    "        output_file_name = output_file_name+\"_wib\"\n",
    "      \n",
    "        df=df[(df[\"Weekly_ib\"]==1)]\n",
    "    symbol_str = get_watchlist(df)\n",
    "  \n",
    "    write_watchlist(output_file_name,symbol_str)\n",
    "    #delete the filename after processing to keep the directory clean\n",
    "    \n",
    "    "
   ]
  },
  {
   "cell_type": "code",
   "execution_count": 11,
   "metadata": {},
   "outputs": [],
   "source": [
    "# generate_watchlist(_minervini,selextractor,_minervini_download_fn)\n",
    "# generate_watchlist(_1_month,selextractor,_1_month_fn)\n",
    "# generate_watchlist(_3_month,selextractor,_3_month_fn)\n",
    "# generate_watchlist(_6_month,selextractor,_6_month_fn)\n",
    "# generate_watchlist(_52_wk_high,selextractor,_52_wk_high_fn)\n",
    "# generate_watchlist(_asx20percent,selextractor,_asx20percent_fn)\n",
    "# generate_watchlist(_asx_kma,selextractor,_asx_kma_fn)\n",
    "# #generate_watchlist(_asx_selective,selextractor,_asx_selective_fn)\n",
    "# generate_watchlist(_asx_52wbounce,selextractor,_asx_52wbounce_fn)\n",
    "#generate_watchlist(_nse_refined,selextractor,_nse_refined_fn)\n",
    "\n",
    "\n",
    "# generate_watchlist(_minervini,selextractor,_minervini_download_fn)\n",
    "# generate_watchlist(_1_month,selextractor,_1_month_fn)\n",
    "# generate_watchlist(_3_month,selextractor,_3_month_fn)\n",
    "# generate_watchlist(_6_month,selextractor,_6_month_fn)\n",
    "# generate_watchlist(_52_wk_high,selextractor,_52_wk_high_fn)\n",
    "# generate_watchlist(_asx20percent,selextractor,_asx20percent_fn)\n",
    "# generate_watchlist(_asx_kma,selextractor,_asx_kma_fn)\n",
    "# #generate_watchlist(_asx_selective,selextractor,_asx_selective_fn)\n",
    "# generate_watchlist(_asx_52wbounce,selextractor,_asx_52wbounce_fn)\n",
    "df_scan_results = get_scanner_details(_tse_refined,selextractor,_tse_refined_fn)\n",
    "generate_watchlist(df_scan_results,'all',_tse_refined_fn)\n",
    "generate_watchlist(df_scan_results,'wib',_tse_refined_fn)\n",
    "generate_watchlist(df_scan_results,'3wtc',_tse_refined_fn)\n",
    "os.remove(file_path+_tse_refined_fn)"
   ]
  },
  {
   "cell_type": "code",
   "execution_count": null,
   "metadata": {},
   "outputs": [],
   "source": []
  },
  {
   "cell_type": "raw",
   "metadata": {},
   "source": []
  },
  {
   "cell_type": "raw",
   "metadata": {},
   "source": []
  }
 ],
 "metadata": {
  "kernelspec": {
   "display_name": "Python 3 (ipykernel)",
   "language": "python",
   "name": "python3"
  },
  "language_info": {
   "codemirror_mode": {
    "name": "ipython",
    "version": 3
   },
   "file_extension": ".py",
   "mimetype": "text/x-python",
   "name": "python",
   "nbconvert_exporter": "python",
   "pygments_lexer": "ipython3",
   "version": "3.7.7"
  }
 },
 "nbformat": 4,
 "nbformat_minor": 1
}
