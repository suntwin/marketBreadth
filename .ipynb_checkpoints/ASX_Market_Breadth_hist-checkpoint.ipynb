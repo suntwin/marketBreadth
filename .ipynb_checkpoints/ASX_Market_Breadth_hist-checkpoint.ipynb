{
 "cells": [
  {
   "cell_type": "code",
   "execution_count": 1,
   "metadata": {},
   "outputs": [],
   "source": [
    "from seleniumextractor import SeleniumExtractor\n",
    "from selenium.webdriver.support.ui import Select\n",
    "from selenium.webdriver.common.keys import Keys\n",
    "from selenium.webdriver.support.ui import WebDriverWait\n",
    "from selenium.webdriver.common.by import By\n",
    "from selenium.webdriver.support.ui import Select\n",
    "from selenium.webdriver.support import expected_conditions as EC\n",
    "from decimal import *\n",
    "from selenium_error import *\n",
    "from configReader_MB import configReader_MB\n",
    "import random\n",
    "import logging\n",
    "import logging.config\n",
    "import sys\n",
    "import pandas as pd\n",
    "import time"
   ]
  },
  {
   "cell_type": "code",
   "execution_count": 2,
   "metadata": {},
   "outputs": [],
   "source": [
    "\n",
    "def _get_config(property):\n",
    "    return(configReader_MB.get_setting(property))\n",
    "    return(configReader_MB.get_setting(property))\n",
    "\n",
    "marketinout_loginurl = _get_config(\"login_link\")\n",
    "marketinout_username = _get_config(\"username\")"
   ]
  },
  {
   "cell_type": "code",
   "execution_count": 3,
   "metadata": {},
   "outputs": [],
   "source": [
    "\n",
    "def _run_screener(sel,url,path):\n",
    "    selextractor.driver.get(url)\n",
    "    sel.get_elem_by_id(\"runScreenButton\").click()\n",
    "    data1 = sel.get_elem_by_xpath(path).text.split(\" \")\n",
    "    return(data1[0])\n",
    "\n",
    "def _run_screener_crypto(sel,url,path):\n",
    "    selextractor.driver.get(url)\n",
    "    sel.get_elem_by_id(\"runScreenButton\").click()\n",
    "\n",
    "    #data1 = sel.get_elem_by_xpath(path).text.split(\" \")\n",
    "\n",
    "    data1 = sel.get_elem_by_id(\"results\")\n",
    "    print(\"data1\",data1)\n",
    "    nr = {\"number_of_matches\":0}\n",
    "    for row in data1.find_elements_by_css_selector('tr'):\n",
    "        if row == data1.find_elements_by_css_selector('tr')[-1]:\n",
    "            # this is the last element of the loop\n",
    "            for cell in row.find_elements_by_tag_name('td')[:1]:\n",
    "\n",
    "                nr1 = cell.text.split(\" \")[0]\n",
    "            #print(\"nr1 is\",row)\n",
    "                for k in nr.keys():\n",
    "                    nr['number_of_matches'] = nr1\n",
    "    print(\"nr dict\",nr)\n",
    "    return(nr['number_of_matches'])\n",
    "\n",
    "def _run_screener_crypto_hist(sel,url,path):\n",
    "\n",
    "    left_button_xpath = \"/html/body/table[2]/tbody/tr/td[2]/table[3]/tbody/tr/td/table[1]/tbody/tr[1]/td/div/table/tbody/tr/td[3]/table/tbody/tr[2]/td[1]/a\"\n",
    "    date_xpath = \"/html/body/table[2]/tbody/tr/td[2]/table[3]/tbody/tr/td/table[1]/tbody/tr[1]/td/div/table/tbody/tr/td[3]/table/tbody/tr[2]/td[2]\"\n",
    "    sel.get_elem_by_xpath(left_button_xpath).click()\n",
    "    #sel.get_elem_by_id(\"runScreenButton\").click()\n",
    "\n",
    "    date_str = sel.get_elem_by_xpath(date_xpath).text.split(\" \")[1]\n",
    "\n",
    "    data1 = sel.get_elem_by_id(\"results\")\n",
    "    print(\"data1\",data1)\n",
    "    nr = {\"number_of_matches\":0,\"date\":\"\"}\n",
    "    for row in data1.find_elements_by_css_selector('tr'):\n",
    "        if row == data1.find_elements_by_css_selector('tr')[-1]:\n",
    "            # this is the last element of the loop\n",
    "            for cell in row.find_elements_by_tag_name('td')[:1]:\n",
    "\n",
    "                nr1 = cell.text.split(\" \")[0]\n",
    "            #print(\"nr1 is\",row)\n",
    "                for k in nr.keys():\n",
    "                    nr['number_of_matches'] = nr1\n",
    "    #print(\"nr dict\",nr)\n",
    "    nr['date']=date_str\n",
    "    return(nr)\n"
   ]
  },
  {
   "cell_type": "code",
   "execution_count": 4,
   "metadata": {},
   "outputs": [],
   "source": [
    "def _save_csv(file_name,datalist):\n",
    "    date_list=[]\n",
    "    count_list=[]\n",
    "    for i in range(len(datalist)):\n",
    "        print(\"record\",datalist[i])\n",
    "        #df.append(pd.DataFrame(datalist[i], index=[0]), ignore_index=True)\n",
    "\n",
    "        date_list.append(datalist[i]['date'])\n",
    "        count_list.append(datalist[i]['number_of_matches'])\n",
    "    #date_ser = pd.to_datetime(pd.Series(df.TimeReviewed))\n",
    "    date_ser = pd.to_datetime(pd.Series(date_list))\n",
    "    date_ser = date_ser.dt.strftime('%d/%m/%Y')\n",
    "    count_ser = pd.Series(count_list)\n",
    "    df = pd.DataFrame()\n",
    "    df['date'] = date_ser\n",
    "    df['count'] = count_ser\n",
    "    #change the date format\n",
    "\n",
    "    print(df)\n",
    "\n",
    "    df.to_csv(file_name,index=False)"
   ]
  },
  {
   "cell_type": "code",
   "execution_count": 5,
   "metadata": {},
   "outputs": [],
   "source": [
    "marketinout_loginurl = _get_config(\"login_link\")\n",
    "marketinout_username = _get_config(\"username\")\n",
    "selextractor = SeleniumExtractor(marketinout_loginurl)\n",
    "elem = selextractor.get_elem_by_id(\"l\")\n",
    "elem.send_keys(marketinout_username)\n",
    "elem = selextractor.get_elems_by_class(\"button\")[0].click()"
   ]
  },
  {
   "cell_type": "code",
   "execution_count": 6,
   "metadata": {},
   "outputs": [
    {
     "name": "stdout",
     "output_type": "stream",
     "text": [
      "xpath /html/body/table[2]/tbody/tr/td[2]/table[3]/tbody/tr/td/table[1]/tbody/tr[1]/td/div/table/tbody/tr/td[3]/table/tbody/tr[2]/td[1]/a\n",
      "xpath /html/body/table[2]/tbody/tr/td[2]/table[3]/tbody/tr/td/table[1]/tbody/tr[1]/td/div/table/tbody/tr/td[3]/table/tbody/tr[2]/td[2]\n",
      "data1 <selenium.webdriver.remote.webelement.WebElement (session=\"5a16ba9fd6285d942f0f9def06be7097\", element=\"6b623e4d-ddf2-4e0d-b651-89b8bbf93604\")>\n",
      "04/27/2023 1573\n",
      "record {'number_of_matches': '1573', 'date': '04/27/2023'}\n",
      "         date count\n",
      "0  27/04/2023  1573\n",
      "xpath /html/body/table[2]/tbody/tr/td[2]/table[3]/tbody/tr/td/table[1]/tbody/tr[1]/td/div/table/tbody/tr/td[3]/table/tbody/tr[2]/td[1]/a\n",
      "xpath /html/body/table[2]/tbody/tr/td[2]/table[3]/tbody/tr/td/table[1]/tbody/tr[1]/td/div/table/tbody/tr/td[3]/table/tbody/tr[2]/td[2]\n",
      "data1 <selenium.webdriver.remote.webelement.WebElement (session=\"5a16ba9fd6285d942f0f9def06be7097\", element=\"09ea6551-1ed2-4eb8-b1d4-2005b6ea6dee\")>\n",
      "04/26/2023 1579\n",
      "record {'number_of_matches': '1573', 'date': '04/27/2023'}\n",
      "record {'number_of_matches': '1579', 'date': '04/26/2023'}\n",
      "         date count\n",
      "0  27/04/2023  1573\n",
      "1  26/04/2023  1579\n",
      "xpath /html/body/table[2]/tbody/tr/td[2]/table[3]/tbody/tr/td/table[1]/tbody/tr[1]/td/div/table/tbody/tr/td[3]/table/tbody/tr[2]/td[1]/a\n",
      "xpath /html/body/table[2]/tbody/tr/td[2]/table[3]/tbody/tr/td/table[1]/tbody/tr[1]/td/div/table/tbody/tr/td[3]/table/tbody/tr[2]/td[2]\n",
      "data1 <selenium.webdriver.remote.webelement.WebElement (session=\"5a16ba9fd6285d942f0f9def06be7097\", element=\"d3571a89-3c6b-4144-a3c0-d841079eee47\")>\n",
      "04/25/2023 1314\n",
      "record {'number_of_matches': '1573', 'date': '04/27/2023'}\n",
      "record {'number_of_matches': '1579', 'date': '04/26/2023'}\n",
      "record {'number_of_matches': '1314', 'date': '04/25/2023'}\n",
      "         date count\n",
      "0  27/04/2023  1573\n",
      "1  26/04/2023  1579\n",
      "2  25/04/2023  1314\n"
     ]
    },
    {
     "ename": "KeyboardInterrupt",
     "evalue": "",
     "output_type": "error",
     "traceback": [
      "\u001b[1;31m---------------------------------------------------------------------------\u001b[0m",
      "\u001b[1;31mKeyboardInterrupt\u001b[0m                         Traceback (most recent call last)",
      "\u001b[1;32m~\\AppData\\Local\\Temp\\ipykernel_16296\\3038352410.py\u001b[0m in \u001b[0;36m<module>\u001b[1;34m\u001b[0m\n\u001b[0;32m      9\u001b[0m \u001b[1;32mfor\u001b[0m \u001b[0mi\u001b[0m \u001b[1;32min\u001b[0m \u001b[0mrange\u001b[0m\u001b[1;33m(\u001b[0m\u001b[0mgo_back_period\u001b[0m\u001b[1;33m)\u001b[0m\u001b[1;33m:\u001b[0m\u001b[1;33m\u001b[0m\u001b[1;33m\u001b[0m\u001b[0m\n\u001b[0;32m     10\u001b[0m         \u001b[1;31m#url = _20sma_url + '&mov=' + '-' + i\u001b[0m\u001b[1;33m\u001b[0m\u001b[1;33m\u001b[0m\u001b[1;33m\u001b[0m\u001b[0m\n\u001b[1;32m---> 11\u001b[1;33m     \u001b[0mtime\u001b[0m\u001b[1;33m.\u001b[0m\u001b[0msleep\u001b[0m\u001b[1;33m(\u001b[0m\u001b[1;36m3\u001b[0m\u001b[1;33m)\u001b[0m\u001b[1;33m\u001b[0m\u001b[1;33m\u001b[0m\u001b[0m\n\u001b[0m\u001b[0;32m     12\u001b[0m     \u001b[0m_20sma_up_count\u001b[0m \u001b[1;33m=\u001b[0m \u001b[0m_run_screener_crypto_hist\u001b[0m\u001b[1;33m(\u001b[0m\u001b[0mselextractor\u001b[0m\u001b[1;33m,\u001b[0m \u001b[0m_20sma_url\u001b[0m\u001b[1;33m,\u001b[0m \u001b[0m_match_xpath\u001b[0m\u001b[1;33m)\u001b[0m\u001b[1;33m\u001b[0m\u001b[1;33m\u001b[0m\u001b[0m\n\u001b[0;32m     13\u001b[0m     \u001b[0mprint\u001b[0m\u001b[1;33m(\u001b[0m\u001b[0m_20sma_up_count\u001b[0m\u001b[1;33m[\u001b[0m\u001b[1;34m'date'\u001b[0m\u001b[1;33m]\u001b[0m\u001b[1;33m,\u001b[0m\u001b[0m_20sma_up_count\u001b[0m\u001b[1;33m[\u001b[0m\u001b[1;34m'number_of_matches'\u001b[0m\u001b[1;33m]\u001b[0m\u001b[1;33m)\u001b[0m\u001b[1;33m\u001b[0m\u001b[1;33m\u001b[0m\u001b[0m\n",
      "\u001b[1;31mKeyboardInterrupt\u001b[0m: "
     ]
    }
   ],
   "source": [
    "_match_xpath = _get_config(\"match_xpath\")\n",
    "_20sma_url = _get_config(\"20sma\")\n",
    "go_back_period = 365\n",
    "#go_back_period = 101\n",
    "selextractor.driver.get(_20sma_url)\n",
    "#selextractor.get_elem_by_id(\"runScreenButton\").click()\n",
    "df = pd.DataFrame()\n",
    "data_list =[]\n",
    "for i in range(go_back_period):\n",
    "        #url = _20sma_url + '&mov=' + '-' + i\n",
    "    time.sleep(3)\n",
    "    _20sma_up_count = _run_screener_crypto_hist(selextractor, _20sma_url, _match_xpath)\n",
    "    print(_20sma_up_count['date'],_20sma_up_count['number_of_matches'])\n",
    "    data_list.append(_20sma_up_count)\n",
    "    #print(data_list)\n",
    "\n",
    "\n",
    "    _save_csv(\"50sma_down.csv\",data_list)"
   ]
  },
  {
   "cell_type": "code",
   "execution_count": null,
   "metadata": {},
   "outputs": [],
   "source": []
  }
 ],
 "metadata": {
  "kernelspec": {
   "display_name": "Python 3 (ipykernel)",
   "language": "python",
   "name": "python3"
  },
  "language_info": {
   "codemirror_mode": {
    "name": "ipython",
    "version": 3
   },
   "file_extension": ".py",
   "mimetype": "text/x-python",
   "name": "python",
   "nbconvert_exporter": "python",
   "pygments_lexer": "ipython3",
   "version": "3.7.7"
  }
 },
 "nbformat": 4,
 "nbformat_minor": 1
}
