{
 "cells": [
  {
   "cell_type": "code",
   "execution_count": 1,
   "metadata": {},
   "outputs": [],
   "source": [
    "from seleniumextractor import SeleniumExtractor\n",
    "from selenium.webdriver.support.ui import Select\n",
    "from selenium.webdriver.common.keys import Keys\n",
    "from selenium.webdriver.support.ui import WebDriverWait\n",
    "from selenium.webdriver.common.by import By\n",
    "from selenium.webdriver.support.ui import Select\n",
    "from selenium.webdriver.support import expected_conditions as EC\n",
    "from decimal import *\n",
    "from selenium_error import *\n",
    "from configReader_MB import configReader_MB\n",
    "import random\n",
    "import logging\n",
    "import logging.config\n",
    "import sys\n",
    "import pandas as pd\n",
    "import time\n",
    "from marketInOutScreener import *"
   ]
  },
  {
   "cell_type": "code",
   "execution_count": 2,
   "metadata": {},
   "outputs": [],
   "source": [
    "\n",
    "def _get_config(property):\n",
    "    return(configReader_MB.get_setting(property))\n",
    "    return(configReader_MB.get_setting(property))\n",
    "\n",
    "marketinout_loginurl = _get_config(\"login_link\")\n",
    "marketinout_username = _get_config(\"username\")"
   ]
  },
  {
   "cell_type": "code",
   "execution_count": null,
   "metadata": {},
   "outputs": [],
   "source": [
    "\n",
    "\n"
   ]
  },
  {
   "cell_type": "code",
   "execution_count": 3,
   "metadata": {},
   "outputs": [],
   "source": [
    "def _save_csv(file_name,datalist):\n",
    "    date_list=[]\n",
    "    count_list=[]\n",
    "    for i in range(len(datalist)):\n",
    "        print(\"record\",datalist[i])\n",
    "        #df.append(pd.DataFrame(datalist[i], index=[0]), ignore_index=True)\n",
    "\n",
    "        date_list.append(datalist[i]['date'])\n",
    "        count_list.append(datalist[i]['number_of_matches'])\n",
    "    date_ser = pd.Series(date_list)\n",
    "    count_ser = pd.Series(count_list)\n",
    "    df = pd.DataFrame()\n",
    "    df['date'] = date_ser\n",
    "    df['count'] = count_ser\n",
    "    print(df)\n",
    "\n",
    "    df.to_csv(file_name,index=False)"
   ]
  },
  {
   "cell_type": "code",
   "execution_count": 4,
   "metadata": {},
   "outputs": [],
   "source": [
    "marketinout_loginurl = _get_config(\"login_link\")\n",
    "marketinout_username = _get_config(\"username\")\n",
    "selextractor = SeleniumExtractor(marketinout_loginurl)\n",
    "elem = selextractor.get_elem_by_id(\"l\")\n",
    "elem.send_keys(marketinout_username)\n",
    "elem = selextractor.get_elems_by_class(\"button\")[0].click()"
   ]
  },
  {
   "cell_type": "code",
   "execution_count": 5,
   "metadata": {},
   "outputs": [
    {
     "name": "stdout",
     "output_type": "stream",
     "text": [
      "data1 <selenium.webdriver.remote.webelement.WebElement (session=\"77a8a3766db1b7716cd15cb9a74f3f5f\", element=\"98C124FEB732BBADBB34301080E1C689_element_48\")>\n",
      "nr dict {'number_of_matches': '111'}\n",
      "data1 <selenium.webdriver.remote.webelement.WebElement (session=\"77a8a3766db1b7716cd15cb9a74f3f5f\", element=\"7CA3A78F5A266BE0B9BA77EFEAC2AF40_element_126\")>\n",
      "nr dict {'number_of_matches': '63'}\n",
      "data1 <selenium.webdriver.remote.webelement.WebElement (session=\"77a8a3766db1b7716cd15cb9a74f3f5f\", element=\"299BE37B1ED000993386360AF19EA7DE_element_270\")>\n",
      "nr dict {'number_of_matches': '24'}\n",
      "data1 <selenium.webdriver.remote.webelement.WebElement (session=\"77a8a3766db1b7716cd15cb9a74f3f5f\", element=\"693851027F1C6794936611660637496C_element_474\")>\n",
      "nr dict {'number_of_matches': '21'}\n",
      "data1 <selenium.webdriver.remote.webelement.WebElement (session=\"77a8a3766db1b7716cd15cb9a74f3f5f\", element=\"B90A97F158F20EB63CA99860FC720DD4_element_564\")>\n",
      "nr dict {'number_of_matches': '1007'}\n",
      "data1 <selenium.webdriver.remote.webelement.WebElement (session=\"77a8a3766db1b7716cd15cb9a74f3f5f\", element=\"9C448726D7FE072CB6848FB699A8D673_element_644\")>\n",
      "nr dict {'number_of_matches': '899'}\n",
      "data1 <selenium.webdriver.remote.webelement.WebElement (session=\"77a8a3766db1b7716cd15cb9a74f3f5f\", element=\"1BAA1820226DADA405C5DE0487BF9944_element_922\")>\n",
      "nr dict {'number_of_matches': '1374'}\n",
      "data1 <selenium.webdriver.remote.webelement.WebElement (session=\"77a8a3766db1b7716cd15cb9a74f3f5f\", element=\"ED87F994A889E13FCE7366A80849668B_element_1000\")>\n",
      "nr dict {'number_of_matches': '520'}\n"
     ]
    }
   ],
   "source": [
    "from marketInOutScreener import _run_screener_crypto\n",
    "\n",
    "_match_xpath = _get_config(\"match_xpath\")\n",
    "_20sma_url = _get_config(\"20sma_nse\")\n",
    "_20sma_below_url = _get_config(\"20sma_below_nse\")\n",
    "_50sma_url = _get_config(\"50sma_nse\")\n",
    "_50sma_below_url = _get_config(\"50sma_below_nse\")\n",
    "_20percent_up_url = _get_config(\"20percent_up_nse\")\n",
    "_20percent_down_url = _get_config(\"20percent_down_nse\")\n",
    "_4_5percent_up_url = _get_config(\"4.5percent_up_nse\")\n",
    "_4_5percent_down_url = _get_config(\"4.5percent_down_nse\")\n",
    "\n",
    "_4_5percent_up_count = _run_screener_crypto(selextractor,_4_5percent_up_url,_match_xpath)\n",
    "_4_5percent_down_count = _run_screener_crypto(selextractor,_4_5percent_down_url,_match_xpath)\n",
    "_20percent_up_count = _run_screener_crypto(selextractor,_20percent_up_url,_match_xpath)\n",
    "_20percent_down_count = _run_screener_crypto(selextractor,_20percent_down_url,_match_xpath)\n",
    "_20sma_up_count = _run_screener_crypto(selextractor,_20sma_url,_match_xpath)\n",
    "_20sma_below_count = _run_screener_crypto(selextractor,_20sma_below_url,_match_xpath)\n",
    "_50sma_up_count = _run_screener_crypto(selextractor,_50sma_url,_match_xpath)\n",
    "_50sma_below_count = _run_screener_crypto(selextractor,_50sma_below_url,_match_xpath)\n",
    "        #print(_20sma_up_count,_20sma_below_count,_50sma_up_count,_50sma_below_count,_20percent_up_count,_20percent_down_count,_4_5percent_up_count,_4_5percent_down_count)\n"
   ]
  },
  {
   "cell_type": "code",
   "execution_count": 6,
   "metadata": {
    "pycharm": {
     "name": "#%%\n"
    }
   },
   "outputs": [
    {
     "name": "stdout",
     "output_type": "stream",
     "text": [
      "111 63 24 21 1007 899 1374 520\n"
     ]
    }
   ],
   "source": [
    "print(_4_5percent_up_count,_4_5percent_down_count,_20percent_up_count,_20percent_down_count,_20sma_up_count,_20sma_below_count,_50sma_up_count,_50sma_below_count)"
   ]
  },
  {
   "cell_type": "code",
   "execution_count": 7,
   "metadata": {
    "pycharm": {
     "name": "#%%\n"
    },
    "scrolled": true
   },
   "outputs": [
    {
     "ename": "ImportError",
     "evalue": "Missing optional dependency 'fsspec'.  Use pip or conda to install fsspec.",
     "output_type": "error",
     "traceback": [
      "\u001B[1;31m---------------------------------------------------------------------------\u001B[0m",
      "\u001B[1;31mImportError\u001B[0m                               Traceback (most recent call last)",
      "\u001B[1;32m~\\AppData\\Local\\Temp\\ipykernel_19988\\4286755445.py\u001B[0m in \u001B[0;36m<module>\u001B[1;34m\u001B[0m\n\u001B[0;32m      1\u001B[0m \u001B[0mbreadth_local_path\u001B[0m \u001B[1;33m=\u001B[0m \u001B[1;34m\"C://Users//Sonam//OneDrive//Documents//MarketBreadth_NSEV2.xls\"\u001B[0m\u001B[1;33m\u001B[0m\u001B[1;33m\u001B[0m\u001B[0m\n\u001B[0;32m      2\u001B[0m df = pd.read_excel(breadth_local_path, index_col=0,\n\u001B[1;32m----> 3\u001B[1;33m               dtype={'A': int, 'B': int, 'C': int, 'D': int, 'E': int, 'F': int,'G': int,'H':int})  \n\u001B[0m\u001B[0;32m      4\u001B[0m \u001B[1;33m\u001B[0m\u001B[0m\n\u001B[0;32m      5\u001B[0m \u001B[1;33m\u001B[0m\u001B[0m\n",
      "\u001B[1;32m~\\.conda\\envs\\marketBreadth\\lib\\site-packages\\pandas\\util\\_decorators.py\u001B[0m in \u001B[0;36mwrapper\u001B[1;34m(*args, **kwargs)\u001B[0m\n\u001B[0;32m    309\u001B[0m                     \u001B[0mstacklevel\u001B[0m\u001B[1;33m=\u001B[0m\u001B[0mstacklevel\u001B[0m\u001B[1;33m,\u001B[0m\u001B[1;33m\u001B[0m\u001B[1;33m\u001B[0m\u001B[0m\n\u001B[0;32m    310\u001B[0m                 )\n\u001B[1;32m--> 311\u001B[1;33m             \u001B[1;32mreturn\u001B[0m \u001B[0mfunc\u001B[0m\u001B[1;33m(\u001B[0m\u001B[1;33m*\u001B[0m\u001B[0margs\u001B[0m\u001B[1;33m,\u001B[0m \u001B[1;33m**\u001B[0m\u001B[0mkwargs\u001B[0m\u001B[1;33m)\u001B[0m\u001B[1;33m\u001B[0m\u001B[1;33m\u001B[0m\u001B[0m\n\u001B[0m\u001B[0;32m    312\u001B[0m \u001B[1;33m\u001B[0m\u001B[0m\n\u001B[0;32m    313\u001B[0m         \u001B[1;32mreturn\u001B[0m \u001B[0mwrapper\u001B[0m\u001B[1;33m\u001B[0m\u001B[1;33m\u001B[0m\u001B[0m\n",
      "\u001B[1;32m~\\.conda\\envs\\marketBreadth\\lib\\site-packages\\pandas\\io\\excel\\_base.py\u001B[0m in \u001B[0;36mread_excel\u001B[1;34m(io, sheet_name, header, names, index_col, usecols, squeeze, dtype, engine, converters, true_values, false_values, skiprows, nrows, na_values, keep_default_na, na_filter, verbose, parse_dates, date_parser, thousands, comment, skipfooter, convert_float, mangle_dupe_cols, storage_options)\u001B[0m\n\u001B[0;32m    362\u001B[0m     \u001B[1;32mif\u001B[0m \u001B[1;32mnot\u001B[0m \u001B[0misinstance\u001B[0m\u001B[1;33m(\u001B[0m\u001B[0mio\u001B[0m\u001B[1;33m,\u001B[0m \u001B[0mExcelFile\u001B[0m\u001B[1;33m)\u001B[0m\u001B[1;33m:\u001B[0m\u001B[1;33m\u001B[0m\u001B[1;33m\u001B[0m\u001B[0m\n\u001B[0;32m    363\u001B[0m         \u001B[0mshould_close\u001B[0m \u001B[1;33m=\u001B[0m \u001B[1;32mTrue\u001B[0m\u001B[1;33m\u001B[0m\u001B[1;33m\u001B[0m\u001B[0m\n\u001B[1;32m--> 364\u001B[1;33m         \u001B[0mio\u001B[0m \u001B[1;33m=\u001B[0m \u001B[0mExcelFile\u001B[0m\u001B[1;33m(\u001B[0m\u001B[0mio\u001B[0m\u001B[1;33m,\u001B[0m \u001B[0mstorage_options\u001B[0m\u001B[1;33m=\u001B[0m\u001B[0mstorage_options\u001B[0m\u001B[1;33m,\u001B[0m \u001B[0mengine\u001B[0m\u001B[1;33m=\u001B[0m\u001B[0mengine\u001B[0m\u001B[1;33m)\u001B[0m\u001B[1;33m\u001B[0m\u001B[1;33m\u001B[0m\u001B[0m\n\u001B[0m\u001B[0;32m    365\u001B[0m     \u001B[1;32melif\u001B[0m \u001B[0mengine\u001B[0m \u001B[1;32mand\u001B[0m \u001B[0mengine\u001B[0m \u001B[1;33m!=\u001B[0m \u001B[0mio\u001B[0m\u001B[1;33m.\u001B[0m\u001B[0mengine\u001B[0m\u001B[1;33m:\u001B[0m\u001B[1;33m\u001B[0m\u001B[1;33m\u001B[0m\u001B[0m\n\u001B[0;32m    366\u001B[0m         raise ValueError(\n",
      "\u001B[1;32m~\\.conda\\envs\\marketBreadth\\lib\\site-packages\\pandas\\io\\excel\\_base.py\u001B[0m in \u001B[0;36m__init__\u001B[1;34m(self, path_or_buffer, engine, storage_options)\u001B[0m\n\u001B[0;32m   1190\u001B[0m             \u001B[1;32melse\u001B[0m\u001B[1;33m:\u001B[0m\u001B[1;33m\u001B[0m\u001B[1;33m\u001B[0m\u001B[0m\n\u001B[0;32m   1191\u001B[0m                 ext = inspect_excel_format(\n\u001B[1;32m-> 1192\u001B[1;33m                     \u001B[0mcontent_or_path\u001B[0m\u001B[1;33m=\u001B[0m\u001B[0mpath_or_buffer\u001B[0m\u001B[1;33m,\u001B[0m \u001B[0mstorage_options\u001B[0m\u001B[1;33m=\u001B[0m\u001B[0mstorage_options\u001B[0m\u001B[1;33m\u001B[0m\u001B[1;33m\u001B[0m\u001B[0m\n\u001B[0m\u001B[0;32m   1193\u001B[0m                 )\n\u001B[0;32m   1194\u001B[0m                 \u001B[1;32mif\u001B[0m \u001B[0mext\u001B[0m \u001B[1;32mis\u001B[0m \u001B[1;32mNone\u001B[0m\u001B[1;33m:\u001B[0m\u001B[1;33m\u001B[0m\u001B[1;33m\u001B[0m\u001B[0m\n",
      "\u001B[1;32m~\\.conda\\envs\\marketBreadth\\lib\\site-packages\\pandas\\io\\excel\\_base.py\u001B[0m in \u001B[0;36minspect_excel_format\u001B[1;34m(content_or_path, storage_options)\u001B[0m\n\u001B[0;32m   1069\u001B[0m \u001B[1;33m\u001B[0m\u001B[0m\n\u001B[0;32m   1070\u001B[0m     with get_handle(\n\u001B[1;32m-> 1071\u001B[1;33m         \u001B[0mcontent_or_path\u001B[0m\u001B[1;33m,\u001B[0m \u001B[1;34m\"rb\"\u001B[0m\u001B[1;33m,\u001B[0m \u001B[0mstorage_options\u001B[0m\u001B[1;33m=\u001B[0m\u001B[0mstorage_options\u001B[0m\u001B[1;33m,\u001B[0m \u001B[0mis_text\u001B[0m\u001B[1;33m=\u001B[0m\u001B[1;32mFalse\u001B[0m\u001B[1;33m\u001B[0m\u001B[1;33m\u001B[0m\u001B[0m\n\u001B[0m\u001B[0;32m   1072\u001B[0m     ) as handle:\n\u001B[0;32m   1073\u001B[0m         \u001B[0mstream\u001B[0m \u001B[1;33m=\u001B[0m \u001B[0mhandle\u001B[0m\u001B[1;33m.\u001B[0m\u001B[0mhandle\u001B[0m\u001B[1;33m\u001B[0m\u001B[1;33m\u001B[0m\u001B[0m\n",
      "\u001B[1;32m~\\.conda\\envs\\marketBreadth\\lib\\site-packages\\pandas\\io\\common.py\u001B[0m in \u001B[0;36mget_handle\u001B[1;34m(path_or_buf, mode, encoding, compression, memory_map, is_text, errors, storage_options)\u001B[0m\n\u001B[0;32m    612\u001B[0m         \u001B[0mcompression\u001B[0m\u001B[1;33m=\u001B[0m\u001B[0mcompression\u001B[0m\u001B[1;33m,\u001B[0m\u001B[1;33m\u001B[0m\u001B[1;33m\u001B[0m\u001B[0m\n\u001B[0;32m    613\u001B[0m         \u001B[0mmode\u001B[0m\u001B[1;33m=\u001B[0m\u001B[0mmode\u001B[0m\u001B[1;33m,\u001B[0m\u001B[1;33m\u001B[0m\u001B[1;33m\u001B[0m\u001B[0m\n\u001B[1;32m--> 614\u001B[1;33m         \u001B[0mstorage_options\u001B[0m\u001B[1;33m=\u001B[0m\u001B[0mstorage_options\u001B[0m\u001B[1;33m,\u001B[0m\u001B[1;33m\u001B[0m\u001B[1;33m\u001B[0m\u001B[0m\n\u001B[0m\u001B[0;32m    615\u001B[0m     )\n\u001B[0;32m    616\u001B[0m \u001B[1;33m\u001B[0m\u001B[0m\n",
      "\u001B[1;32m~\\.conda\\envs\\marketBreadth\\lib\\site-packages\\pandas\\io\\common.py\u001B[0m in \u001B[0;36m_get_filepath_or_buffer\u001B[1;34m(filepath_or_buffer, encoding, compression, mode, storage_options)\u001B[0m\n\u001B[0;32m    335\u001B[0m         \u001B[1;32mif\u001B[0m \u001B[0mfilepath_or_buffer\u001B[0m\u001B[1;33m.\u001B[0m\u001B[0mstartswith\u001B[0m\u001B[1;33m(\u001B[0m\u001B[1;34m\"s3n://\"\u001B[0m\u001B[1;33m)\u001B[0m\u001B[1;33m:\u001B[0m\u001B[1;33m\u001B[0m\u001B[1;33m\u001B[0m\u001B[0m\n\u001B[0;32m    336\u001B[0m             \u001B[0mfilepath_or_buffer\u001B[0m \u001B[1;33m=\u001B[0m \u001B[0mfilepath_or_buffer\u001B[0m\u001B[1;33m.\u001B[0m\u001B[0mreplace\u001B[0m\u001B[1;33m(\u001B[0m\u001B[1;34m\"s3n://\"\u001B[0m\u001B[1;33m,\u001B[0m \u001B[1;34m\"s3://\"\u001B[0m\u001B[1;33m)\u001B[0m\u001B[1;33m\u001B[0m\u001B[1;33m\u001B[0m\u001B[0m\n\u001B[1;32m--> 337\u001B[1;33m         \u001B[0mfsspec\u001B[0m \u001B[1;33m=\u001B[0m \u001B[0mimport_optional_dependency\u001B[0m\u001B[1;33m(\u001B[0m\u001B[1;34m\"fsspec\"\u001B[0m\u001B[1;33m)\u001B[0m\u001B[1;33m\u001B[0m\u001B[1;33m\u001B[0m\u001B[0m\n\u001B[0m\u001B[0;32m    338\u001B[0m \u001B[1;33m\u001B[0m\u001B[0m\n\u001B[0;32m    339\u001B[0m         \u001B[1;31m# If botocore is installed we fallback to reading with anon=True\u001B[0m\u001B[1;33m\u001B[0m\u001B[1;33m\u001B[0m\u001B[1;33m\u001B[0m\u001B[0m\n",
      "\u001B[1;32m~\\.conda\\envs\\marketBreadth\\lib\\site-packages\\pandas\\compat\\_optional.py\u001B[0m in \u001B[0;36mimport_optional_dependency\u001B[1;34m(name, extra, errors, min_version)\u001B[0m\n\u001B[0;32m    116\u001B[0m     \u001B[1;32mexcept\u001B[0m \u001B[0mImportError\u001B[0m\u001B[1;33m:\u001B[0m\u001B[1;33m\u001B[0m\u001B[1;33m\u001B[0m\u001B[0m\n\u001B[0;32m    117\u001B[0m         \u001B[1;32mif\u001B[0m \u001B[0merrors\u001B[0m \u001B[1;33m==\u001B[0m \u001B[1;34m\"raise\"\u001B[0m\u001B[1;33m:\u001B[0m\u001B[1;33m\u001B[0m\u001B[1;33m\u001B[0m\u001B[0m\n\u001B[1;32m--> 118\u001B[1;33m             \u001B[1;32mraise\u001B[0m \u001B[0mImportError\u001B[0m\u001B[1;33m(\u001B[0m\u001B[0mmsg\u001B[0m\u001B[1;33m)\u001B[0m \u001B[1;32mfrom\u001B[0m \u001B[1;32mNone\u001B[0m\u001B[1;33m\u001B[0m\u001B[1;33m\u001B[0m\u001B[0m\n\u001B[0m\u001B[0;32m    119\u001B[0m         \u001B[1;32melse\u001B[0m\u001B[1;33m:\u001B[0m\u001B[1;33m\u001B[0m\u001B[1;33m\u001B[0m\u001B[0m\n\u001B[0;32m    120\u001B[0m             \u001B[1;32mreturn\u001B[0m \u001B[1;32mNone\u001B[0m\u001B[1;33m\u001B[0m\u001B[1;33m\u001B[0m\u001B[0m\n",
      "\u001B[1;31mImportError\u001B[0m: Missing optional dependency 'fsspec'.  Use pip or conda to install fsspec."
     ]
    }
   ],
   "source": [
    "breadth_local_path = \"C://Users//Sonam//OneDrive//Documents//MarketBreadth_NSEV2.xls\"\n",
    "df = pd.read_excel(breadth_local_path, index_col=0,\n",
    "              dtype={'A': int, 'B': int, 'C': int, 'D': int, 'E': int, 'F': int,'G': int,'H':int})  \n",
    "\n",
    "\n",
    "\n"
   ]
  },
  {
   "cell_type": "code",
   "execution_count": null,
   "metadata": {},
   "outputs": [],
   "source": [
    "df"
   ]
  },
  {
   "cell_type": "code",
   "execution_count": null,
   "metadata": {},
   "outputs": [],
   "source": [
    "# prepare the returned data into a new row for dataframe\n",
    "columns = df.columns\n",
    "columns_list = list(columns)\n",
    "data = {'row':[int(_4_5percent_up_count),int(_4_5percent_down_count),int(_20percent_up_count),int(_20percent_down_count),int(_20sma_up_count),int(_20sma_below_count),int(_50sma_up_count),int(_50sma_below_count)]}\n",
    "new_row = pd.DataFrame.from_dict(data,orient='index')\n",
    "new_row.set_axis(columns_list,axis=1,inplace=True)"
   ]
  },
  {
   "cell_type": "code",
   "execution_count": null,
   "metadata": {},
   "outputs": [],
   "source": [
    "#change the index to current date for the new row\n",
    "from datetime import datetime\n",
    "curr_date = datetime.today().strftime('%d/%m/%Y')\n",
    "as_list = new_row.index.tolist()\n",
    "idx = as_list.index('row')\n",
    "as_list[idx] = curr_date\n",
    "new_row.index = as_list"
   ]
  },
  {
   "cell_type": "code",
   "execution_count": null,
   "metadata": {},
   "outputs": [],
   "source": [
    "#append the new row and save back to excel"
   ]
  },
  {
   "cell_type": "code",
   "execution_count": null,
   "metadata": {
    "pycharm": {
     "name": "#%%\n"
    }
   },
   "outputs": [],
   "source": [
    "final_df = pd.concat([new_row,df])\n"
   ]
  },
  {
   "cell_type": "code",
   "execution_count": null,
   "metadata": {},
   "outputs": [],
   "source": [
    "final_df.to_excel(\"C://Users//Sonam//OneDrive//Documents//MarketBreadth_NSEV2.xls\")"
   ]
  },
  {
   "cell_type": "code",
   "execution_count": null,
   "metadata": {},
   "outputs": [],
   "source": []
  },
  {
   "cell_type": "raw",
   "metadata": {},
   "source": []
  },
  {
   "cell_type": "raw",
   "metadata": {},
   "source": [
    "\n",
    "\n"
   ]
  }
 ],
 "metadata": {
  "kernelspec": {
   "display_name": "Python 3 (ipykernel)",
   "language": "python",
   "name": "python3"
  },
  "language_info": {
   "codemirror_mode": {
    "name": "ipython",
    "version": 3
   },
   "file_extension": ".py",
   "mimetype": "text/x-python",
   "name": "python",
   "nbconvert_exporter": "python",
   "pygments_lexer": "ipython3",
   "version": "3.7.16"
  }
 },
 "nbformat": 4,
 "nbformat_minor": 1
}
